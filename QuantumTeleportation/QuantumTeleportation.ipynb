{
 "cells": [
  {
   "cell_type": "code",
   "execution_count": 2,
   "id": "679ec2ca",
   "metadata": {},
   "outputs": [],
   "source": [
    "from qiskit import *"
   ]
  },
  {
   "cell_type": "code",
   "execution_count": 3,
   "id": "10734719",
   "metadata": {},
   "outputs": [],
   "source": [
    "from qiskit.visualization import plot_histogram"
   ]
  },
  {
   "cell_type": "code",
   "execution_count": 4,
   "id": "398ffb4f",
   "metadata": {},
   "outputs": [],
   "source": [
    "%matplotlib inline"
   ]
  },
  {
   "cell_type": "code",
   "execution_count": 5,
   "id": "0d1fee71",
   "metadata": {},
   "outputs": [
    {
     "data": {
      "text/html": [
       "<pre style=\"word-wrap: normal;white-space: pre;background: #fff0;line-height: 1.1;font-family: &quot;Courier New&quot;,Courier,monospace\">     ┌───┐ ░            ░      ┌───┐ ░ ┌─┐              \n",
       "q_0: ┤ X ├─░────────────░───■──┤ H ├─░─┤M├─────────■────\n",
       "     └───┘ ░ ┌───┐      ░ ┌─┴─┐└───┘ ░ └╥┘┌─┐      │    \n",
       "q_1: ──────░─┤ H ├──■───░─┤ X ├──────░──╫─┤M├──■───┼────\n",
       "           ░ └───┘┌─┴─┐ ░ └───┘      ░  ║ └╥┘┌─┴─┐ │ ┌─┐\n",
       "q_2: ──────░──────┤ X ├─░────────────░──╫──╫─┤ X ├─■─┤M├\n",
       "           ░      └───┘ ░            ░  ║  ║ └───┘   └╥┘\n",
       "c_0: ═══════════════════════════════════╩══╬══════════╬═\n",
       "                                           ║          ║ \n",
       "c_1: ══════════════════════════════════════╩══════════╬═\n",
       "                                                      ║ \n",
       "c_2: ═════════════════════════════════════════════════╩═\n",
       "                                                        </pre>"
      ],
      "text/plain": [
       "     ┌───┐ ░            ░      ┌───┐ ░ ┌─┐              \n",
       "q_0: ┤ X ├─░────────────░───■──┤ H ├─░─┤M├─────────■────\n",
       "     └───┘ ░ ┌───┐      ░ ┌─┴─┐└───┘ ░ └╥┘┌─┐      │    \n",
       "q_1: ──────░─┤ H ├──■───░─┤ X ├──────░──╫─┤M├──■───┼────\n",
       "           ░ └───┘┌─┴─┐ ░ └───┘      ░  ║ └╥┘┌─┴─┐ │ ┌─┐\n",
       "q_2: ──────░──────┤ X ├─░────────────░──╫──╫─┤ X ├─■─┤M├\n",
       "           ░      └───┘ ░            ░  ║  ║ └───┘   └╥┘\n",
       "c_0: ═══════════════════════════════════╩══╬══════════╬═\n",
       "                                           ║          ║ \n",
       "c_1: ══════════════════════════════════════╩══════════╬═\n",
       "                                                      ║ \n",
       "c_2: ═════════════════════════════════════════════════╩═\n",
       "                                                        "
      ]
     },
     "execution_count": 5,
     "metadata": {},
     "output_type": "execute_result"
    }
   ],
   "source": [
    "#generate the circuit with 3 qubits\n",
    "circuit = QuantumCircuit(3,3)\n",
    "circuit.x(0) #we want to see that q2 is gonna be 1 all the time\n",
    "circuit.barrier()\n",
    "circuit.h(1)\n",
    "circuit.cx(1,2)\n",
    "circuit.barrier()\n",
    "circuit.cx(0,1)\n",
    "circuit.h(0)\n",
    "circuit.barrier()\n",
    "circuit.measure([0,1],[0,1])\n",
    "circuit.cx(1,2)\n",
    "circuit.cz(0,2)\n",
    "circuit.measure([2],[2])\n",
    "circuit.draw()"
   ]
  },
  {
   "cell_type": "code",
   "execution_count": 6,
   "id": "207dec1a",
   "metadata": {},
   "outputs": [
    {
     "data": {
      "image/png": "[encoded data removed]",
      "text/plain": [
       "<Figure size 504x360 with 1 Axes>"
      ]
     },
     "execution_count": 6,
     "metadata": {},
     "output_type": "execute_result"
    }
   ],
   "source": [
    "#we want to run our circuit on a simulator- not a real quantum computer for now.\n",
    "simulator = Aer.get_backend('qasm_simulator')\n",
    "result = execute(circuit, backend = simulator, shots=1024).result()\n",
    "#show th results as a plot_histogram\n",
    "plot_histogram(result.get_counts(circuit))"
   ]
  },
  {
   "cell_type": "code",
   "execution_count": 7,
   "id": "7e20fefa",
   "metadata": {},
   "outputs": [],
   "source": [
    "#we got the results as 100, 101, 110 and 111. We can clearly see that q2 is 1 all of them.\n",
    "#if you don't know, the order of qubits: q2q1q0 -> 100 -> q2=1, q1=0, q0=0"
   ]
  },
  {
   "cell_type": "code",
   "execution_count": null,
   "id": "79d79896",
   "metadata": {},
   "outputs": [],
   "source": []
  }
 ],
 "metadata": {
  "kernelspec": {
   "display_name": "Python 3 (ipykernel)",
   "language": "python",
   "name": "python3"
  },
  "language_info": {
   "codemirror_mode": {
    "name": "ipython",
    "version": 3
   },
   "file_extension": ".py",
   "mimetype": "text/x-python",
   "name": "python",
   "nbconvert_exporter": "python",
   "pygments_lexer": "ipython3",
   "version": "3.10.6"
  }
 },
 "nbformat": 4,
 "nbformat_minor": 5
}
